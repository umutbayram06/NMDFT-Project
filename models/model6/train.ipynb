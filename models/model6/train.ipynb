{
 "cells": [
  {
   "cell_type": "code",
   "execution_count": 1,
   "id": "1a8fb8c6",
   "metadata": {},
   "outputs": [
    {
     "name": "stderr",
     "output_type": "stream",
     "text": [
      "2025-07-08 11:27:26.394375: I tensorflow/core/util/port.cc:153] oneDNN custom operations are on. You may see slightly different numerical results due to floating-point round-off errors from different computation orders. To turn them off, set the environment variable `TF_ENABLE_ONEDNN_OPTS=0`.\n",
      "2025-07-08 11:27:26.405138: E external/local_xla/xla/stream_executor/cuda/cuda_fft.cc:467] Unable to register cuFFT factory: Attempting to register factory for plugin cuFFT when one has already been registered\n",
      "WARNING: All log messages before absl::InitializeLog() is called are written to STDERR\n",
      "E0000 00:00:1751963246.416962   29923 cuda_dnn.cc:8579] Unable to register cuDNN factory: Attempting to register factory for plugin cuDNN when one has already been registered\n",
      "E0000 00:00:1751963246.420461   29923 cuda_blas.cc:1407] Unable to register cuBLAS factory: Attempting to register factory for plugin cuBLAS when one has already been registered\n",
      "W0000 00:00:1751963246.430000   29923 computation_placer.cc:177] computation placer already registered. Please check linkage and avoid linking the same target more than once.\n",
      "W0000 00:00:1751963246.430014   29923 computation_placer.cc:177] computation placer already registered. Please check linkage and avoid linking the same target more than once.\n",
      "W0000 00:00:1751963246.430016   29923 computation_placer.cc:177] computation placer already registered. Please check linkage and avoid linking the same target more than once.\n",
      "W0000 00:00:1751963246.430017   29923 computation_placer.cc:177] computation placer already registered. Please check linkage and avoid linking the same target more than once.\n",
      "2025-07-08 11:27:26.433475: I tensorflow/core/platform/cpu_feature_guard.cc:210] This TensorFlow binary is optimized to use available CPU instructions in performance-critical operations.\n",
      "To enable the following instructions: AVX2 AVX_VNNI FMA, in other operations, rebuild TensorFlow with the appropriate compiler flags.\n"
     ]
    }
   ],
   "source": [
    "import numpy as np\n",
    "import matplotlib.pyplot as plt\n",
    "from sklearn.model_selection import train_test_split\n",
    "from keras.models import Sequential\n",
    "from keras.layers import Conv2D, MaxPooling2D, TimeDistributed, LSTM, Dense, Flatten, Dropout\n",
    "from keras.utils import to_categorical\n",
    "from keras import metrics\n",
    "import tensorflow as tf"
   ]
  },
  {
   "cell_type": "code",
   "execution_count": 2,
   "id": "9aaa16c5",
   "metadata": {},
   "outputs": [
    {
     "name": "stdout",
     "output_type": "stream",
     "text": [
      "[PhysicalDevice(name='/physical_device:GPU:0', device_type='GPU')]\n"
     ]
    }
   ],
   "source": [
    "# Check whether tensorflow sees the GPU\n",
    "print(tf.config.list_physical_devices('GPU'))"
   ]
  },
  {
   "cell_type": "code",
   "execution_count": 3,
   "id": "e300a887",
   "metadata": {},
   "outputs": [],
   "source": [
    "# Load the data\n",
    "X = np.load(\"../../mel_spectrograms_train.npy\")\n",
    "y = np.load(\"../../labels_train.npy\")"
   ]
  },
  {
   "cell_type": "code",
   "execution_count": 4,
   "id": "a6421095",
   "metadata": {},
   "outputs": [],
   "source": [
    "# Train-test split\n",
    "X_train, X_test, y_train, y_test = train_test_split(\n",
    "    X, y, test_size=0.2, random_state=42, stratify=y\n",
    ")\n",
    "\n",
    "y_train = to_categorical(y_train, num_classes=2)\n",
    "y_test = to_categorical(y_test, num_classes=2)"
   ]
  },
  {
   "cell_type": "code",
   "execution_count": 5,
   "id": "c5cbe048",
   "metadata": {},
   "outputs": [
    {
     "name": "stderr",
     "output_type": "stream",
     "text": [
      "I0000 00:00:1751963249.267661   29923 gpu_device.cc:2019] Created device /job:localhost/replica:0/task:0/device:GPU:0 with 5588 MB memory:  -> device: 0, name: NVIDIA GeForce RTX 3060 Ti, pci bus id: 0000:01:00.0, compute capability: 8.6\n"
     ]
    },
    {
     "name": "stdout",
     "output_type": "stream",
     "text": [
      "Epoch 1/10\n"
     ]
    },
    {
     "name": "stderr",
     "output_type": "stream",
     "text": [
      "I0000 00:00:1751963255.817243   29990 cuda_dnn.cc:529] Loaded cuDNN version 90501\n"
     ]
    },
    {
     "name": "stdout",
     "output_type": "stream",
     "text": [
      "\u001b[1m1495/1495\u001b[0m \u001b[32m━━━━━━━━━━━━━━━━━━━━\u001b[0m\u001b[37m\u001b[0m \u001b[1m83s\u001b[0m 51ms/step - accuracy: 0.8125 - loss: 0.4046 - val_accuracy: 0.9555 - val_loss: 0.1172\n",
      "Epoch 2/10\n",
      "\u001b[1m1495/1495\u001b[0m \u001b[32m━━━━━━━━━━━━━━━━━━━━\u001b[0m\u001b[37m\u001b[0m \u001b[1m75s\u001b[0m 50ms/step - accuracy: 0.9475 - loss: 0.1468 - val_accuracy: 0.9645 - val_loss: 0.0982\n",
      "Epoch 3/10\n",
      "\u001b[1m1495/1495\u001b[0m \u001b[32m━━━━━━━━━━━━━━━━━━━━\u001b[0m\u001b[37m\u001b[0m \u001b[1m75s\u001b[0m 50ms/step - accuracy: 0.9612 - loss: 0.1025 - val_accuracy: 0.9779 - val_loss: 0.0557\n",
      "Epoch 4/10\n",
      "\u001b[1m1495/1495\u001b[0m \u001b[32m━━━━━━━━━━━━━━━━━━━━\u001b[0m\u001b[37m\u001b[0m \u001b[1m75s\u001b[0m 50ms/step - accuracy: 0.9778 - loss: 0.0683 - val_accuracy: 0.9793 - val_loss: 0.0596\n",
      "Epoch 5/10\n",
      "\u001b[1m1495/1495\u001b[0m \u001b[32m━━━━━━━━━━━━━━━━━━━━\u001b[0m\u001b[37m\u001b[0m \u001b[1m75s\u001b[0m 50ms/step - accuracy: 0.9843 - loss: 0.0480 - val_accuracy: 0.9836 - val_loss: 0.0546\n",
      "Epoch 6/10\n",
      "\u001b[1m1495/1495\u001b[0m \u001b[32m━━━━━━━━━━━━━━━━━━━━\u001b[0m\u001b[37m\u001b[0m \u001b[1m75s\u001b[0m 50ms/step - accuracy: 0.9852 - loss: 0.0442 - val_accuracy: 0.9866 - val_loss: 0.0485\n",
      "Epoch 7/10\n",
      "\u001b[1m1495/1495\u001b[0m \u001b[32m━━━━━━━━━━━━━━━━━━━━\u001b[0m\u001b[37m\u001b[0m \u001b[1m75s\u001b[0m 50ms/step - accuracy: 0.9874 - loss: 0.0393 - val_accuracy: 0.9870 - val_loss: 0.0317\n",
      "Epoch 8/10\n",
      "\u001b[1m1495/1495\u001b[0m \u001b[32m━━━━━━━━━━━━━━━━━━━━\u001b[0m\u001b[37m\u001b[0m \u001b[1m76s\u001b[0m 51ms/step - accuracy: 0.9928 - loss: 0.0250 - val_accuracy: 0.9870 - val_loss: 0.0368\n",
      "Epoch 9/10\n",
      "\u001b[1m1495/1495\u001b[0m \u001b[32m━━━━━━━━━━━━━━━━━━━━\u001b[0m\u001b[37m\u001b[0m \u001b[1m75s\u001b[0m 50ms/step - accuracy: 0.9916 - loss: 0.0254 - val_accuracy: 0.9866 - val_loss: 0.0417\n",
      "Epoch 10/10\n",
      "\u001b[1m1495/1495\u001b[0m \u001b[32m━━━━━━━━━━━━━━━━━━━━\u001b[0m\u001b[37m\u001b[0m \u001b[1m75s\u001b[0m 50ms/step - accuracy: 0.9917 - loss: 0.0229 - val_accuracy: 0.9923 - val_loss: 0.0227\n"
     ]
    }
   ],
   "source": [
    "# === CNN + LSTM Model ===\n",
    "model = Sequential([\n",
    "    TimeDistributed(Conv2D(16, (3, 3), activation='relu', padding='same')),\n",
    "    TimeDistributed(MaxPooling2D((2, 2))),\n",
    "    TimeDistributed(Conv2D(32, (3, 3), activation='relu', padding='same')),\n",
    "    TimeDistributed(MaxPooling2D((2, 2))),\n",
    "    TimeDistributed(Flatten()),\n",
    "    Dropout(0.1),\n",
    "    LSTM(512, dropout=0.2, recurrent_dropout=0.1),\n",
    "    Dropout(0.1),\n",
    "    Dense(2, activation='softmax')\n",
    "])\n",
    "\n",
    "model.compile(optimizer='adam', loss='categorical_crossentropy', metrics=[\"accuracy\"])\n",
    "\n",
    "# === Training ===\n",
    "model.fit(X_train, y_train, validation_data=(X_test,y_test), epochs=10, batch_size=8)\n",
    "\n",
    "model.save('model.keras')"
   ]
  }
 ],
 "metadata": {
  "kernelspec": {
   "display_name": "tf",
   "language": "python",
   "name": "python3"
  },
  "language_info": {
   "codemirror_mode": {
    "name": "ipython",
    "version": 3
   },
   "file_extension": ".py",
   "mimetype": "text/x-python",
   "name": "python",
   "nbconvert_exporter": "python",
   "pygments_lexer": "ipython3",
   "version": "3.12.3"
  }
 },
 "nbformat": 4,
 "nbformat_minor": 5
}
